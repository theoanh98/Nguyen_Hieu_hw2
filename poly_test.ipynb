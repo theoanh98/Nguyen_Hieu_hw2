{
 "cells": [
  {
   "cell_type": "code",
   "execution_count": 11,
   "metadata": {},
   "outputs": [
    {
     "name": "stderr",
     "output_type": "stream",
     "text": [
      "E:\\Anaconda\\Anaconda\\envs\\env_py2\\lib\\site-packages\\ipykernel_launcher.py:36: MatplotlibDeprecationWarning: pyplot.hold is deprecated.\n",
      "    Future behavior will be consistent with the long-time default:\n",
      "    plot commands add elements without first clearing the\n",
      "    Axes and/or Figure.\n"
     ]
    },
    {
     "data": {
      "image/png": "[encoded data removed]",
      "text/plain": [
       "<Figure size 432x288 with 1 Axes>"
      ]
     },
     "metadata": {
      "needs_background": "light"
     },
     "output_type": "display_data"
    }
   ],
   "source": [
    "'''\n",
    "    TEST SCRIPT FOR POLYNOMIAL REGRESSION 1\n",
    "    AUTHOR Eric Eaton, Xiaoxiang Hu\n",
    "'''\n",
    "\n",
    "import numpy as np\n",
    "import matplotlib.pyplot as plt\n",
    "from polyreg import PolynomialRegression\n",
    "\n",
    "if __name__ == \"__main__\":\n",
    "    '''\n",
    "        Main function to test polynomial regression\n",
    "    '''\n",
    "\n",
    "    # load the data\n",
    "    filePath = \"data/polydata.dat\"\n",
    "    file = open(filePath,'r')\n",
    "    allData = np.loadtxt(file, delimiter=',')\n",
    "\n",
    "    X = allData[:, 0]\n",
    "    y = allData[:, 1]\n",
    "\n",
    "    # regression with degree = d\n",
    "    d = 8\n",
    "    model = PolynomialRegression(degree = d, regLambda = 0)\n",
    "    model.fit(X, y)\n",
    "    \n",
    "    # output predictions\n",
    "    xpoints = np.linspace(np.max(X), np.min(X), 100).T\n",
    "    ypoints = model.predict(xpoints)\n",
    "\n",
    "    # plot curve\n",
    "    plt.figure()\n",
    "    plt.plot(X, y, 'rx')\n",
    "    plt.title('PolyRegression with d = '+str(d))\n",
    "    plt.hold(True)\n",
    "    plt.plot(xpoints, ypoints, 'b-')\n",
    "    plt.xlabel('X')\n",
    "    plt.ylabel('Y')\n",
    "    plt.show()\n",
    "\n"
   ]
  },
  {
   "cell_type": "code",
   "execution_count": 3,
   "metadata": {},
   "outputs": [
    {
     "ename": "ValueError",
     "evalue": "need more than 1 value to unpack",
     "output_type": "error",
     "traceback": [
      "\u001b[1;31m\u001b[0m",
      "\u001b[1;31mValueError\u001b[0mTraceback (most recent call last)",
      "\u001b[1;32m<ipython-input-3-8250dcc81704>\u001b[0m in \u001b[0;36m<module>\u001b[1;34m()\u001b[0m\n\u001b[0;32m     94\u001b[0m     \u001b[1;31m# generate Learning curves for different params\u001b[0m\u001b[1;33m\u001b[0m\u001b[1;33m\u001b[0m\u001b[0m\n\u001b[0;32m     95\u001b[0m     \u001b[0mplt\u001b[0m\u001b[1;33m.\u001b[0m\u001b[0msubplot\u001b[0m\u001b[1;33m(\u001b[0m\u001b[1;36m2\u001b[0m\u001b[1;33m,\u001b[0m \u001b[1;36m3\u001b[0m\u001b[1;33m,\u001b[0m \u001b[1;36m1\u001b[0m\u001b[1;33m)\u001b[0m\u001b[1;33m\u001b[0m\u001b[0m\n\u001b[1;32m---> 96\u001b[1;33m     \u001b[0mgenerateLearningCurve\u001b[0m\u001b[1;33m(\u001b[0m\u001b[0mX\u001b[0m\u001b[1;33m,\u001b[0m \u001b[0my\u001b[0m\u001b[1;33m,\u001b[0m \u001b[1;36m1\u001b[0m\u001b[1;33m,\u001b[0m \u001b[1;36m0\u001b[0m\u001b[1;33m)\u001b[0m\u001b[1;33m;\u001b[0m\u001b[1;33m\u001b[0m\u001b[0m\n\u001b[0m\u001b[0;32m     97\u001b[0m     \u001b[0mplt\u001b[0m\u001b[1;33m.\u001b[0m\u001b[0msubplot\u001b[0m\u001b[1;33m(\u001b[0m\u001b[1;36m2\u001b[0m\u001b[1;33m,\u001b[0m \u001b[1;36m3\u001b[0m\u001b[1;33m,\u001b[0m \u001b[1;36m2\u001b[0m\u001b[1;33m)\u001b[0m\u001b[1;33m\u001b[0m\u001b[0m\n\u001b[0;32m     98\u001b[0m     \u001b[0mgenerateLearningCurve\u001b[0m\u001b[1;33m(\u001b[0m\u001b[0mX\u001b[0m\u001b[1;33m,\u001b[0m \u001b[0my\u001b[0m\u001b[1;33m,\u001b[0m \u001b[1;36m4\u001b[0m\u001b[1;33m,\u001b[0m \u001b[1;36m0\u001b[0m\u001b[1;33m)\u001b[0m\u001b[1;33m;\u001b[0m\u001b[1;33m\u001b[0m\u001b[0m\n",
      "\u001b[1;32m<ipython-input-3-8250dcc81704>\u001b[0m in \u001b[0;36mgenerateLearningCurve\u001b[1;34m(X, y, degree, regLambda)\u001b[0m\n\u001b[0;32m     58\u001b[0m     \u001b[0mloo\u001b[0m \u001b[1;33m=\u001b[0m \u001b[0mnp\u001b[0m\u001b[1;33m.\u001b[0m\u001b[0marray\u001b[0m\u001b[1;33m(\u001b[0m\u001b[1;33m[\u001b[0m\u001b[0mX_train\u001b[0m\u001b[1;33m.\u001b[0m\u001b[0mshape\u001b[0m\u001b[1;33m,\u001b[0m \u001b[0mX_test\u001b[0m\u001b[1;33m.\u001b[0m\u001b[0mshape\u001b[0m\u001b[1;33m]\u001b[0m\u001b[1;33m)\u001b[0m\u001b[1;33m\u001b[0m\u001b[0m\n\u001b[0;32m     59\u001b[0m     \u001b[0mitrial\u001b[0m \u001b[1;33m=\u001b[0m \u001b[1;36m0\u001b[0m\u001b[1;33m\u001b[0m\u001b[0m\n\u001b[1;32m---> 60\u001b[1;33m     \u001b[1;32mfor\u001b[0m \u001b[0mtrain_index\u001b[0m\u001b[1;33m,\u001b[0m \u001b[0mtest_index\u001b[0m \u001b[1;32min\u001b[0m \u001b[0mloo\u001b[0m\u001b[1;33m:\u001b[0m\u001b[1;33m\u001b[0m\u001b[0m\n\u001b[0m\u001b[0;32m     61\u001b[0m         \u001b[1;31m#print(\"TRAIN indices:\", train_index, \"TEST indices:\", test_index)\u001b[0m\u001b[1;33m\u001b[0m\u001b[1;33m\u001b[0m\u001b[0m\n\u001b[0;32m     62\u001b[0m         \u001b[0mX_train\u001b[0m\u001b[1;33m,\u001b[0m \u001b[0mX_test\u001b[0m \u001b[1;33m=\u001b[0m \u001b[0mX\u001b[0m\u001b[1;33m[\u001b[0m\u001b[0mtrain_index\u001b[0m\u001b[1;33m]\u001b[0m\u001b[1;33m,\u001b[0m \u001b[0mX\u001b[0m\u001b[1;33m[\u001b[0m\u001b[0mtest_index\u001b[0m\u001b[1;33m]\u001b[0m\u001b[1;33m\u001b[0m\u001b[0m\n",
      "\u001b[1;31mValueError\u001b[0m: need more than 1 value to unpack"
     ]
    },
    {
     "data": {
      "image/png": "[encoded data removed]",
      "text/plain": [
       "<Figure size 432x288 with 1 Axes>"
      ]
     },
     "metadata": {
      "needs_background": "light"
     },
     "output_type": "display_data"
    }
   ],
   "source": [
    "'''\n",
    "    TEST SCRIPT FOR POLYNOMIAL REGRESSION 1\n",
    "    AUTHOR Eric Eaton, Xiaoxiang Hu\n",
    "'''\n",
    "\n",
    "import numpy as np\n",
    "import matplotlib.pyplot as plt\n",
    "from mpl_toolkits.mplot3d import Axes3D\n",
    "from matplotlib import cm\n",
    "from matplotlib.ticker import LinearLocator, FormatStrFormatter\n",
    "from polyreg import PolynomialRegression\n",
    "\n",
    "from sklearn.linear_model import Ridge\n",
    "from sklearn.preprocessing import PolynomialFeatures\n",
    "from sklearn.model_selection import train_test_split\n",
    "\n",
    "from polyreg import learningCurve\n",
    "\n",
    "\n",
    "\n",
    "\n",
    "#----------------------------------------------------\n",
    "# Plotting tools\n",
    "\n",
    "def plotLearningCurve(errorTrain, errorTest, regLambda, degree):\n",
    "    '''\n",
    "        plot computed learning curve\n",
    "    '''\n",
    "    minX = 3\n",
    "    maxY = max(errorTest[minX+1:])\n",
    "\n",
    "    xs = np.arange(len(errorTrain))\n",
    "    plt.plot(xs, errorTrain, 'r-o')\n",
    "    plt.hold(True)\n",
    "    plt.plot(xs, errorTest, 'b-o')\n",
    "    plt.plot(xs, np.ones(len(xs)), 'k--')\n",
    "    plt.hold(False)\n",
    "    plt.legend(['Training Error', 'Testing Error'], loc = 'best')\n",
    "    plt.title('Learning Curve (d='+str(degree)+', lambda='+str(regLambda)+')')\n",
    "    plt.xlabel('Training samples')\n",
    "    plt.ylabel('Error')\n",
    "    plt.yscale('log')\n",
    "    plt.ylim((0,maxY))\n",
    "    plt.xlim((minX,10))\n",
    "\n",
    "\n",
    "def generateLearningCurve(X, y, degree, regLambda):\n",
    "    '''\n",
    "        computing learning curve via leave one out CV\n",
    "    '''\n",
    "\n",
    "    n = len(X);\n",
    "    \n",
    "    errorTrains = np.zeros((n, n-1));\n",
    "    errorTests = np.zeros((n, n-1));\n",
    "    \n",
    "    X_train, X_test, y_train, y_test = train_test_split(X,y)\n",
    "    loo = np.array([X_train.shape, X_test.shape])\n",
    "    itrial = 0\n",
    "    for train_index, test_index in loo:\n",
    "        #print(\"TRAIN indices:\", train_index, \"TEST indices:\", test_index)\n",
    "        X_train, X_test = X[train_index], X[test_index]\n",
    "        y_train, y_test = y[train_index], y[test_index]\n",
    "\n",
    "        (errTrain, errTest) = learningCurve(X_train, y_train, X_test, y_test, regLambda, degree)\n",
    "\n",
    "        errorTrains[itrial, :] = errTrain\n",
    "        errorTests[itrial, :] = errTest\n",
    "        itrial = itrial + 1\n",
    "\n",
    "    errorTrain = errorTrains.mean(axis = 0)\n",
    "    errorTest = errorTests.mean(axis = 0)\n",
    "\n",
    "    plotLearningCurve(errorTrain, errorTest, regLambda, degree)\n",
    "\n",
    "\n",
    "\n",
    "\n",
    "#-----------------------------------------------\n",
    "\n",
    "if __name__ == \"__main__\":\n",
    "    '''\n",
    "        Main function to test polynomial regression\n",
    "    '''\n",
    "\n",
    "    # load the data\n",
    "    filePath = \"data/polydata.dat\"\n",
    "    file = open(filePath,'r')\n",
    "    allData = np.loadtxt(file, delimiter=',')\n",
    "\n",
    "    X = allData[:, 0]\n",
    "    y = allData[:, 1]\n",
    "\n",
    "    # generate Learning curves for different params\n",
    "    plt.subplot(2, 3, 1)\n",
    "    generateLearningCurve(X, y, 1, 0);\n",
    "    plt.subplot(2, 3, 2)\n",
    "    generateLearningCurve(X, y, 4, 0);\n",
    "    plt.subplot(2, 3, 3)\n",
    "    generateLearningCurve(X, y, 8, 0);\n",
    "    plt.subplot(2, 3, 4)\n",
    "    generateLearningCurve(X, y, 8, .1);\n",
    "    plt.subplot(2, 3, 5)\n",
    "    generateLearningCurve(X, y, 8, 1);\n",
    "    plt.subplot(2, 3, 6)\n",
    "    generateLearningCurve(X, y, 8, 100);\n",
    "    plt.show()\n"
   ]
  },
  {
   "cell_type": "code",
   "execution_count": null,
   "metadata": {},
   "outputs": [],
   "source": []
  }
 ],
 "metadata": {
  "kernelspec": {
   "display_name": "Python 2",
   "language": "python",
   "name": "python2"
  },
  "language_info": {
   "codemirror_mode": {
    "name": "ipython",
    "version": 2
   },
   "file_extension": ".py",
   "mimetype": "text/x-python",
   "name": "python",
   "nbconvert_exporter": "python",
   "pygments_lexer": "ipython2",
   "version": "2.7.16"
  }
 },
 "nbformat": 4,
 "nbformat_minor": 2
}
